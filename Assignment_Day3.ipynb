{
  "nbformat": 4,
  "nbformat_minor": 0,
  "metadata": {
    "colab": {
      "name": "Assignment_Day3.ipynb",
      "provenance": []
    },
    "kernelspec": {
      "name": "python3",
      "display_name": "Python 3"
    }
  },
  "cells": [
    {
      "cell_type": "code",
      "metadata": {
        "id": "Ch9C18thXDai",
        "colab_type": "code",
        "colab": {
          "base_uri": "https://localhost:8080/",
          "height": 52
        },
        "outputId": "acdec20f-377d-416a-c699-36b67c1f71c9"
      },
      "source": [
        "n = input(\"Enter Number to calculate sum\")\n",
        "n = int (n)\n",
        "total_numbers = n\n",
        "sum=0\n",
        "while (n >= 0):\n",
        "    sum += n\n",
        "    n-=1\n",
        "print (\"sum using while loop \", sum)"
      ],
      "execution_count": 1,
      "outputs": [
        {
          "output_type": "stream",
          "text": [
            "Enter Number to calculate sum15\n",
            "sum using while loop  120\n"
          ],
          "name": "stdout"
        }
      ]
    },
    {
      "cell_type": "code",
      "metadata": {
        "id": "5QejkiBhT1q2",
        "colab_type": "code",
        "colab": {
          "base_uri": "https://localhost:8080/",
          "height": 52
        },
        "outputId": "5186e91d-e3bc-4e0b-d801-db95ec363299"
      },
      "source": [
        "# taking input from user\n",
        "number = int(input(\"Enter any number: \"))\n",
        "\n",
        "# prime number is always greater than 1\n",
        "if number > 1:\n",
        "    for i in range(2, number):\n",
        "        if (number % i) == 0:\n",
        "            print(number, \"is not a prime number\")\n",
        "            break\n",
        "    else:\n",
        "        print(number, \"is a prime number\")\n",
        "\n",
        "# if the entered number is less than or equal to 1\n",
        "# then it is not prime number\n",
        "else:\n",
        "    print(number, \"is not a prime number\")"
      ],
      "execution_count": 4,
      "outputs": [
        {
          "output_type": "stream",
          "text": [
            "Enter any number: 15\n",
            "15 is not a prime number\n"
          ],
          "name": "stdout"
        }
      ]
    }
  ]
}